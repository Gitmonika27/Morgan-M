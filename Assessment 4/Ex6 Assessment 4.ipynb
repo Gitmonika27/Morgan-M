{
 "cells": [
  {
   "cell_type": "code",
   "execution_count": 1,
   "id": "5aaff8d3",
   "metadata": {},
   "outputs": [
    {
     "name": "stdout",
     "output_type": "stream",
     "text": [
      "200\n",
      "   userId  id                                              title  completed\n",
      "0       1   1                                 delectus aut autem      False\n",
      "1       1   2                 quis ut nam facilis et officia qui      False\n",
      "2       1   3                                fugiat veniam minus      False\n",
      "3       1   4                                   et porro tempora       True\n",
      "4       1   5  laboriosam mollitia et enim quasi adipisci qui...      False\n",
      "5       1   6  qui ullam ratione quibusdam voluptatem quia omnis      False\n",
      "6       1   7                  illo expedita consequatur quia in      False\n"
     ]
    }
   ],
   "source": [
    "import requests\n",
    "import pandas as pd\n",
    "\n",
    "x = requests.get('https://jsonplaceholder.typicode.com/todos')\n",
    "print(x.status_code) #To print status code\n",
    "\n",
    "df=pd.read_json('https://jsonplaceholder.typicode.com/todos')\n",
    "#print(df.to_string()) #To display entire dataset\n",
    "print(df.head(7)) #To print data of 7 rows\n"
   ]
  },
  {
   "cell_type": "code",
   "execution_count": null,
   "id": "d598d4ef",
   "metadata": {},
   "outputs": [],
   "source": []
  }
 ],
 "metadata": {
  "kernelspec": {
   "display_name": "Python 3 (ipykernel)",
   "language": "python",
   "name": "python3"
  },
  "language_info": {
   "codemirror_mode": {
    "name": "ipython",
    "version": 3
   },
   "file_extension": ".py",
   "mimetype": "text/x-python",
   "name": "python",
   "nbconvert_exporter": "python",
   "pygments_lexer": "ipython3",
   "version": "3.10.2"
  }
 },
 "nbformat": 4,
 "nbformat_minor": 5
}
