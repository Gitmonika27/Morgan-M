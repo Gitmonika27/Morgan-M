{
 "cells": [
  {
   "cell_type": "code",
   "execution_count": 1,
   "id": "0e76ec63",
   "metadata": {},
   "outputs": [
    {
     "name": "stdout",
     "output_type": "stream",
     "text": [
      "200\n"
     ]
    }
   ],
   "source": [
    "import requests\n",
    "import pandas as pd\n",
    "import json\n",
    "\n",
    "myobj = {\n",
    "    \"userId\": 1,\n",
    "    \"title\": \"delectus aut autem\",\n",
    "    \"completed\": \"false\"\n",
    "}\n",
    "url = 'https://jsonplaceholder.typicode.com/todos/1'\n",
    "x=requests.post(url,data = myobj)\n",
    "r=requests.delete(url,data = myobj )\n",
    "print(r.status_code) #To print status code after deleted the data"
   ]
  },
  {
   "cell_type": "code",
   "execution_count": null,
   "id": "e05e20d8",
   "metadata": {},
   "outputs": [],
   "source": []
  }
 ],
 "metadata": {
  "kernelspec": {
   "display_name": "Python 3 (ipykernel)",
   "language": "python",
   "name": "python3"
  },
  "language_info": {
   "codemirror_mode": {
    "name": "ipython",
    "version": 3
   },
   "file_extension": ".py",
   "mimetype": "text/x-python",
   "name": "python",
   "nbconvert_exporter": "python",
   "pygments_lexer": "ipython3",
   "version": "3.10.2"
  }
 },
 "nbformat": 4,
 "nbformat_minor": 5
}
