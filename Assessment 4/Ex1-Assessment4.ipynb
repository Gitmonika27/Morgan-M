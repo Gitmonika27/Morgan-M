{
 "cells": [
  {
   "cell_type": "code",
   "execution_count": 1,
   "id": "4aa9d9d4",
   "metadata": {},
   "outputs": [
    {
     "name": "stdout",
     "output_type": "stream",
     "text": [
      "     Name  Age Qualification\n",
      "0     Jai   27           Msc\n",
      "1  Prince   24            MA\n",
      "2  Gaurav   22           MCA\n",
      "3    Anuj   32           phd\n"
     ]
    }
   ],
   "source": [
    "import pandas as pd\n",
    "\n",
    "data={\n",
    "    'Name':['Jai','Prince','Gaurav','Anuj'],\n",
    "    'Age':[27,24,22,32],\n",
    "    'Qualification':['Msc','MA','MCA','phd']\n",
    "}\n",
    "\n",
    "myval = pd.DataFrame(data)\n",
    "\n",
    "print(myval)"
   ]
  },
  {
   "cell_type": "code",
   "execution_count": null,
   "id": "844e6a73",
   "metadata": {},
   "outputs": [],
   "source": []
  }
 ],
 "metadata": {
  "kernelspec": {
   "display_name": "Python 3 (ipykernel)",
   "language": "python",
   "name": "python3"
  },
  "language_info": {
   "codemirror_mode": {
    "name": "ipython",
    "version": 3
   },
   "file_extension": ".py",
   "mimetype": "text/x-python",
   "name": "python",
   "nbconvert_exporter": "python",
   "pygments_lexer": "ipython3",
   "version": "3.10.2"
  }
 },
 "nbformat": 4,
 "nbformat_minor": 5
}
