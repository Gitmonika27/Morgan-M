{
 "cells": [
  {
   "cell_type": "code",
   "execution_count": 1,
   "id": "686a891a",
   "metadata": {},
   "outputs": [
    {
     "name": "stdout",
     "output_type": "stream",
     "text": [
      "200\n",
      "   userId  id                                              title  completed\n",
      "0       1   1                                 delectus aut autem      False\n",
      "1       1   2                 quis ut nam facilis et officia qui      False\n",
      "2       1   3                                fugiat veniam minus      False\n",
      "3       1   4                                   et porro tempora       True\n",
      "4       1   5  laboriosam mollitia et enim quasi adipisci qui...      False\n"
     ]
    }
   ],
   "source": [
    "import requests\n",
    "import pandas as pd\n",
    "\n",
    "x = requests.get('https://jsonplaceholder.typicode.com/todos')\n",
    "print(x.status_code) #To print status code\n",
    "\n",
    "df=pd.read_json('https://jsonplaceholder.typicode.com/todos')\n",
    "print(df.head(5)) #To print data of 5 rows\n"
   ]
  },
  {
   "cell_type": "code",
   "execution_count": null,
   "id": "3267f419",
   "metadata": {},
   "outputs": [],
   "source": []
  }
 ],
 "metadata": {
  "kernelspec": {
   "display_name": "Python 3 (ipykernel)",
   "language": "python",
   "name": "python3"
  },
  "language_info": {
   "codemirror_mode": {
    "name": "ipython",
    "version": 3
   },
   "file_extension": ".py",
   "mimetype": "text/x-python",
   "name": "python",
   "nbconvert_exporter": "python",
   "pygments_lexer": "ipython3",
   "version": "3.10.2"
  }
 },
 "nbformat": 4,
 "nbformat_minor": 5
}
