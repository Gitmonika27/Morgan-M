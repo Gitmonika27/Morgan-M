{
 "cells": [
  {
   "cell_type": "code",
   "execution_count": 1,
   "id": "953eec5f",
   "metadata": {},
   "outputs": [
    {
     "name": "stdout",
     "output_type": "stream",
     "text": [
      "Header:\n",
      "            Name            Team  Number Position  Age  Height  Weight  \\\n",
      "0  Avery Bradley  Boston Celtics       0       PG   25  06-Feb     180   \n",
      "1    Jae Crowder  Boston Celtics      99       SF   25  06-Jun     235   \n",
      "2   John Holland  Boston Celtics      30       SG   27  06-May     205   \n",
      "3    R.J. Hunter  Boston Celtics      28       SG   22  06-May     185   \n",
      "4  Jonas Jerebko  Boston Celtics       8       PF   29  06-Oct     231   \n",
      "\n",
      "             College     Salary  \n",
      "0              Texas  7730337.0  \n",
      "1          Marquette  6796117.0  \n",
      "2  Boston University        NaN  \n",
      "3      Georgia State  1148640.0  \n",
      "4                NaN  5000000.0  \n",
      "Shape:\n",
      "(457, 9)\n",
      "Data Type\n",
      "Name         object\n",
      "Team         object\n",
      "Number        int64\n",
      "Position     object\n",
      "Age           int64\n",
      "Height       object\n",
      "Weight        int64\n",
      "College      object\n",
      "Salary      float64\n",
      "dtype: object\n",
      "Describe method:\n",
      "           Number         Age      Weight        Salary\n",
      "count  457.000000  457.000000  457.000000  4.460000e+02\n",
      "mean    17.678337   26.938731  221.522976  4.842684e+06\n",
      "std     15.966090    4.404016   26.368343  5.229238e+06\n",
      "min      0.000000   19.000000  161.000000  3.088800e+04\n",
      "25%      5.000000   24.000000  200.000000  1.044792e+06\n",
      "50%     13.000000   26.000000  220.000000  2.839073e+06\n",
      "75%     25.000000   30.000000  240.000000  6.500000e+06\n",
      "max     99.000000   40.000000  307.000000  2.500000e+07\n",
      "Median of all data\n",
      "Number         13.0\n",
      "Age            26.0\n",
      "Weight        220.0\n",
      "Salary    2839073.0\n",
      "dtype: float64\n",
      "Median of Age:\n",
      "26.0\n"
     ]
    },
    {
     "name": "stderr",
     "output_type": "stream",
     "text": [
      "C:\\Users\\Moorthy\\AppData\\Local\\Temp\\ipykernel_7156\\3720119028.py:14: FutureWarning: Dropping of nuisance columns in DataFrame reductions (with 'numeric_only=None') is deprecated; in a future version this will raise TypeError.  Select only valid columns before calling the reduction.\n",
      "  print(df.median())\n"
     ]
    }
   ],
   "source": [
    "import pandas as pd\n",
    "\n",
    "df = pd.read_csv('nba.csv')\n",
    "\n",
    "print(\"Header:\")\n",
    "print(df.head(5)) #To print first 5header value\n",
    "print(\"Shape:\")\n",
    "print(df.shape) # To print the dimension\n",
    "print(\"Data Type\")\n",
    "print(df.dtypes) # To print the datatype of the data\n",
    "print(\"Describe method:\")\n",
    "print(df.describe()) #Returns description of the data\n",
    "print(\"Median of all data\")\n",
    "print(df.median())\n",
    "print(\"Median of Age:\")\n",
    "print(df[\"Age\"].median())"
   ]
  },
  {
   "cell_type": "code",
   "execution_count": null,
   "id": "0d002b96",
   "metadata": {},
   "outputs": [],
   "source": []
  }
 ],
 "metadata": {
  "kernelspec": {
   "display_name": "Python 3 (ipykernel)",
   "language": "python",
   "name": "python3"
  },
  "language_info": {
   "codemirror_mode": {
    "name": "ipython",
    "version": 3
   },
   "file_extension": ".py",
   "mimetype": "text/x-python",
   "name": "python",
   "nbconvert_exporter": "python",
   "pygments_lexer": "ipython3",
   "version": "3.10.2"
  }
 },
 "nbformat": 4,
 "nbformat_minor": 5
}
