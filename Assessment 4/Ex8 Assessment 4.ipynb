{
 "cells": [
  {
   "cell_type": "code",
   "execution_count": 1,
   "id": "00f05fe6",
   "metadata": {},
   "outputs": [
    {
     "name": "stdout",
     "output_type": "stream",
     "text": [
      "{\n",
      "  \"userId\": 1,\n",
      "  \"id\": 10,\n",
      "  \"title\": \"illo est ratione doloremque quia maiores aut\",\n",
      "  \"completed\": true\n",
      "}\n",
      "200\n",
      "200\n",
      "{\n",
      "  \"userId\": \"1\",\n",
      "  \"id\": 10,\n",
      "  \"areaname+pincode\": \"delectus aut autem\",\n",
      "  \"completed\": \"false\"\n",
      "}\n"
     ]
    }
   ],
   "source": [
    "import requests\n",
    "import pandas as pd\n",
    "import json\n",
    "\n",
    "\n",
    "z=(requests.get('https://jsonplaceholder.typicode.com/todos/10')) #By using get method to pull data with id 10\n",
    "print(z.text)\n",
    "print(z.status_code)\n",
    "\n",
    "url = 'https://jsonplaceholder.typicode.com/todos/10'\n",
    "mydata = {\n",
    "    \"userId\": 1,\n",
    "    \"id\": 1,\n",
    "    \"areaname+pincode\": \"delectus aut autem\",\n",
    "    \"completed\": \"false\"\n",
    "}\n",
    "r=requests.put(url,data = mydata)\n",
    "print(r.status_code)\n",
    "print(r.text)\n"
   ]
  },
  {
   "cell_type": "code",
   "execution_count": null,
   "id": "ccc0ef54",
   "metadata": {},
   "outputs": [],
   "source": []
  }
 ],
 "metadata": {
  "kernelspec": {
   "display_name": "Python 3 (ipykernel)",
   "language": "python",
   "name": "python3"
  },
  "language_info": {
   "codemirror_mode": {
    "name": "ipython",
    "version": 3
   },
   "file_extension": ".py",
   "mimetype": "text/x-python",
   "name": "python",
   "nbconvert_exporter": "python",
   "pygments_lexer": "ipython3",
   "version": "3.10.2"
  }
 },
 "nbformat": 4,
 "nbformat_minor": 5
}
