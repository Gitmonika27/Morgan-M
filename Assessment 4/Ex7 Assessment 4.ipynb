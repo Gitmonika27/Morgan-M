{
 "cells": [
  {
   "cell_type": "code",
   "execution_count": 1,
   "id": "1102aec9",
   "metadata": {},
   "outputs": [
    {
     "name": "stdout",
     "output_type": "stream",
     "text": [
      "201\n",
      "{\n",
      "  \"userId\": 10,\n",
      "  \"id\": 200,\n",
      "  \"title\": \"ipsam aperiam voluptates qui\",\n",
      "  \"completed\": false\n",
      "}\n"
     ]
    }
   ],
   "source": [
    "import requests\n",
    "import pandas as pd\n",
    "import json\n",
    "\n",
    "myobj = {\n",
    "    \"userId\": 10,\n",
    "    \"title\": \"macaroni\",\n",
    "    \"completed\": \"false\"\n",
    "}\n",
    "url = 'https://jsonplaceholder.typicode.com/todos/'\n",
    "x=requests.post(url,data = myobj)\n",
    "print(x.status_code) # To print status code,after adding above dictionary\n",
    "\n",
    "z=(requests.get('https://jsonplaceholder.typicode.com/todos/200')) #By using get method to pull data with id 200\n",
    "print(z.text)"
   ]
  },
  {
   "cell_type": "code",
   "execution_count": null,
   "id": "9ee6bfc0",
   "metadata": {},
   "outputs": [],
   "source": []
  }
 ],
 "metadata": {
  "kernelspec": {
   "display_name": "Python 3 (ipykernel)",
   "language": "python",
   "name": "python3"
  },
  "language_info": {
   "codemirror_mode": {
    "name": "ipython",
    "version": 3
   },
   "file_extension": ".py",
   "mimetype": "text/x-python",
   "name": "python",
   "nbconvert_exporter": "python",
   "pygments_lexer": "ipython3",
   "version": "3.10.2"
  }
 },
 "nbformat": 4,
 "nbformat_minor": 5
}
